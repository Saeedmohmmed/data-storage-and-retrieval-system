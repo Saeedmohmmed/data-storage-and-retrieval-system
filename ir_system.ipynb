{
 "cells": [
  {
   "cell_type": "markdown",
   "metadata": {},
   "source": [
    "               data storage and retieval system \n",
    "tokenization \n",
    "\n",
    "\n",
    "stop words  \n",
    "\n",
    "\n",
    "Constructing Auxiliary structure(s)   \n",
    "\n",
    " \n",
    "phrase query  \n",
    "\n",
    "\n",
    "tf \n",
    "\n",
    "\n",
    "idf \n",
    "\n",
    "\n",
    "tf-idf matrix  \n",
    "\n",
    "\n",
    "\n",
    "similarity between query and each document \n",
    "\n",
    "               "
   ]
  },
  {
   "cell_type": "code",
   "execution_count": 93,
   "metadata": {},
   "outputs": [],
   "source": [
    "import pandas as pd\n",
    "import numpy as np\n",
    "import nltk\n",
    "from nltk.tokenize import word_tokenize\n",
    "from nltk.corpus import stopwords\n",
    "from nltk.stem import SnowballStemmer\n",
    "from nltk.stem.porter import PorterStemmer  \n",
    "from sklearn.feature_extraction.text import TfidfVectorizer\n",
    "from sklearn.feature_extraction.text import * \n",
    "import re\n",
    "import os \n",
    "import string \n",
    "from string import punctuation"
   ]
  },
  {
   "cell_type": "code",
   "execution_count": 94,
   "metadata": {},
   "outputs": [],
   "source": [
    "#function to clean text \n",
    "def text_to_wordlist(text, remove_stop_words=True, stem_words=False):\n",
    "    # Clean the text, with the option to remove stop_words and to stem words.\n",
    "\n",
    "    # Clean the text\n",
    "    text = re.sub(r\"[^A-Za-z0-9]\", \" \", text)\n",
    "    text = re.sub(r\"what's\", \"\", text)\n",
    "    text = re.sub(r\"What's\", \"\", text)\n",
    "    text = re.sub(r\"\\'s\", \" \", text)\n",
    "    text = re.sub(r\"\\'ve\", \" have \", text)\n",
    "    text = re.sub(r\"can't\", \"cannot \", text)\n",
    "    text = re.sub(r\"n't\", \" not \", text)\n",
    "    text = re.sub(r\"I'm\", \"I am\", text)\n",
    "    text = re.sub(r\" m \", \" am \", text)\n",
    "    text = re.sub(r\"\\'re\", \" are \", text)\n",
    "    text = re.sub(r\"\\'d\", \" would \", text)\n",
    "    text = re.sub(r\"\\'ll\", \" will \", text)\n",
    "    text = re.sub(r\"60k\", \" 60000 \", text)\n",
    "    text = re.sub(r\" e g \", \" eg \", text)\n",
    "    text = re.sub(r\" b g \", \" bg \", text)\n",
    "    text = re.sub(r\"\\0s\", \"0\", text)\n",
    "    text = re.sub(r\" 9 11 \", \"911\", text)\n",
    "    text = re.sub(r\"e-mail\", \"email\", text)\n",
    "    text = re.sub(r\"\\s{2,}\", \" \", text)\n",
    "    text = re.sub(r\"quikly\", \"quickly\", text)\n",
    "    text = re.sub(r\" usa \", \" America \", text)\n",
    "    text = re.sub(r\" USA \", \" America \", text)\n",
    "    text = re.sub(r\" u s \", \" America \", text)\n",
    "    text = re.sub(r\" uk \", \" England \", text)\n",
    "    text = re.sub(r\" UK \", \" England \", text)\n",
    "    text = re.sub(r\"india\", \"India\", text)\n",
    "    text = re.sub(r\"switzerland\", \"Switzerland\", text)\n",
    "    text = re.sub(r\"china\", \"China\", text)\n",
    "    text = re.sub(r\"chinese\", \"Chinese\", text) \n",
    "    text = re.sub(r\"imrovement\", \"improvement\", text)\n",
    "    text = re.sub(r\"intially\", \"initially\", text)\n",
    "    text = re.sub(r\"quora\", \"Quora\", text)\n",
    "    text = re.sub(r\" dms \", \"direct messages \", text)  \n",
    "    text = re.sub(r\"demonitization\", \"demonetization\", text) \n",
    "    text = re.sub(r\"actived\", \"active\", text)\n",
    "    text = re.sub(r\"kms\", \" kilometers \", text)\n",
    "    text = re.sub(r\"KMs\", \" kilometers \", text)\n",
    "    text = re.sub(r\" cs \", \" computer science \", text) \n",
    "    text = re.sub(r\" upvotes \", \" up votes \", text)\n",
    "    text = re.sub(r\" iPhone \", \" phone \", text)\n",
    "    text = re.sub(r\"\\0rs \", \" rs \", text) \n",
    "    text = re.sub(r\"calender\", \"calendar\", text)\n",
    "    text = re.sub(r\"ios\", \"operating system\", text)\n",
    "    text = re.sub(r\"gps\", \"GPS\", text)\n",
    "    text = re.sub(r\"gst\", \"GST\", text)\n",
    "    text = re.sub(r\"programing\", \"programming\", text)\n",
    "    text = re.sub(r\"bestfriend\", \"best friend\", text)\n",
    "    text = re.sub(r\"dna\", \"DNA\", text)\n",
    "    text = re.sub(r\"III\", \"3\", text) \n",
    "    text = re.sub(r\"the US\", \"America\", text)\n",
    "    text = re.sub(r\"Astrology\", \"astrology\", text)\n",
    "    text = re.sub(r\"Method\", \"method\", text)\n",
    "    text = re.sub(r\"Find\", \"find\", text) \n",
    "    text = re.sub(r\"banglore\", \"Banglore\", text)\n",
    "    text = re.sub(r\" J K \", \" JK \", text)\n",
    "    \n",
    "    # Remove punctuation from text\n",
    "    text = ''.join([c for c in text if c not in punctuation])\n",
    "    \n",
    "    # Optionally, remove stop words\n",
    "    '''\n",
    "    if remove_stop_words:\n",
    "        text = text.split()\n",
    "        text = [w for w in text if not w in stopwords]\n",
    "        text = \" \".join(text)\n",
    "     '''\n",
    "    # Optionally, shorten words to their stems\n",
    "    '''\n",
    "    if stem_words:\n",
    "        text = text.split()\n",
    "        stemmer = SnowballStemmer('english')\n",
    "        stemmed_words = [stemmer.stem(word) for word in text]\n",
    "        text = \" \".join(stemmed_words)\n",
    "   '''  \n",
    "    # Return a list of words\n",
    "    return(text)"
   ]
  },
  {
   "cell_type": "code",
   "execution_count": 95,
   "metadata": {},
   "outputs": [],
   "source": [
    "#function to read files\n",
    "def read_first_line(file):\n",
    "     with open(file, 'rt') as fd: #read text\n",
    "        first_line = fd.readline()\n",
    "        return first_line"
   ]
  },
  {
   "cell_type": "code",
   "execution_count": 96,
   "metadata": {},
   "outputs": [
    {
     "name": "stdout",
     "output_type": "stream",
     "text": [
      "Doc1 : ['system', 'system', 'saeed', 'mohmmed']\n",
      "Doc2 : ['computer', 'science', 'engineering']\n",
      "Doc3 : ['system', 'system', 'saeed']\n",
      "Doc4 : ['system', 'system', 'syStem', 'information', 'saeed']\n",
      "Doc5 : ['syStem', 'information']\n",
      "Doc6 : ['system', 'information']\n",
      "Doc7 : ['information', 'security']\n",
      "Doc8 : ['information', 'security', 'system']\n",
      "Doc9 : ['copy', 'information', 'security']\n",
      "Doc10 : ['computer', 'science']\n"
     ]
    }
   ],
   "source": [
    "#------------------tokenization and stop word \n",
    "dict={'Doc1':[],'Doc2':[],'Doc3':[],'Doc4':[],'Doc5':[],'Doc6':[],'Doc7':[],'Doc8':[],'Doc9':[],'Doc10':[]}\n",
    "xlist=[]\n",
    "base_path =os.listdir(\"C://Users//20100//Documents//project_ir/New folder/\")\n",
    "for file in base_path:\n",
    "    if file.endswith('.txt'):\n",
    "        file_text_reader=read_first_line(file) \n",
    "        cleaned=text_to_wordlist(file_text_reader) \n",
    "        text_tokens=word_tokenize(cleaned)\n",
    "        tokens_without_sw = [word for word in text_tokens if not word in stopwords.words()]\n",
    "        xlist.append(tokens_without_sw)\n",
    "        \n",
    "        #print(tokens_without_sw) \n",
    "        \n",
    "            \n",
    "#dict \n",
    "#xlist \n",
    "#for x in xlist:\n",
    "dict['Doc1']=xlist[0]\n",
    "dict['Doc2']=xlist[1]\n",
    "dict['Doc3']=xlist[2]\n",
    "dict['Doc4']=xlist[3]\n",
    "dict['Doc5']=xlist[4]\n",
    "dict['Doc6']=xlist[5]\n",
    "dict['Doc7']=xlist[6]\n",
    "dict['Doc8']=xlist[7]\n",
    "dict['Doc9']=xlist[8]\n",
    "dict['Doc10']=xlist[9]\n",
    "#dict\n",
    "#dict['Doc1']\n",
    "#xlist\n",
    "for key ,value in dict.items(): \n",
    "    print(key, \":\", value) "
   ]
  },
  {
   "cell_type": "code",
   "execution_count": 97,
   "metadata": {},
   "outputs": [],
   "source": [
    "#Constructing Auxiliary structure(s)\n",
    "uniqueWordsPerDoc = []\n",
    "numWordPerDoc = []\n",
    "totalWords = 0\n",
    "for document in xlist:\n",
    "    num = len(document)\n",
    "    totalWords += num\n",
    "    numWordPerDoc.append(num)\n",
    "    list_set  = set(document)\n",
    "    uniqueWordsPerDoc += (list(list_set))\n"
   ]
  },
  {
   "cell_type": "code",
   "execution_count": 98,
   "metadata": {},
   "outputs": [
    {
     "name": "stdout",
     "output_type": "stream",
     "text": [
      "total number Of word is:  29\n",
      "Number of unique Words is:  10\n"
     ]
    }
   ],
   "source": [
    "#Creat unique Words in all Documents\n",
    "list_set  = set(uniqueWordsPerDoc)\n",
    "uniqueWords = (list(list_set))\n",
    "\n",
    "print(\"total number Of word is: \",totalWords)\n",
    "print(\"Number of unique Words is: \",len(uniqueWords))"
   ]
  },
  {
   "cell_type": "code",
   "execution_count": 99,
   "metadata": {},
   "outputs": [
    {
     "data": {
      "text/plain": [
       "{'saeed': {0: [2], 2: [2], 3: [4]},\n",
       " 'mohmmed': {0: [3]},\n",
       " 'science': {1: [1], 9: [1]},\n",
       " 'security': {6: [1], 7: [1], 8: [2]},\n",
       " 'information': {3: [3], 4: [1], 5: [1], 6: [0], 7: [0], 8: [1]},\n",
       " 'computer': {1: [0], 9: [0]},\n",
       " 'engineering': {1: [2]},\n",
       " 'syStem': {3: [2], 4: [0]},\n",
       " 'copy': {8: [0]},\n",
       " 'system': {0: [0, 1], 2: [0, 1], 3: [0, 1], 5: [0], 7: [2]}}"
      ]
     },
     "execution_count": 99,
     "metadata": {},
     "output_type": "execute_result"
    }
   ],
   "source": [
    "words = {}\n",
    "for word in uniqueWords:\n",
    "    words[word] = {}\n",
    "    docNum = 0\n",
    "    for document in xlist:\n",
    "        if word in document:\n",
    "            index_pos_list = [ i for i in range(len(document)) if document[i] == word ]\n",
    "            words[word][docNum] = index_pos_list\n",
    "        docNum += 1\n",
    "words"
   ]
  },
  {
   "cell_type": "code",
   "execution_count": 100,
   "metadata": {},
   "outputs": [
    {
     "data": {
      "text/plain": [
       "({8: [[1], [2]], 6: [[0], [1]], 7: [[0], [1]]}, {})"
      ]
     },
     "execution_count": 100,
     "metadata": {},
     "output_type": "execute_result"
    }
   ],
   "source": [
    "from nltk.tokenize import regexp_tokenize\n",
    "def phrase_query(query):\n",
    "    queryList = regexp_tokenize(query, \"[\\w']+\")\n",
    "    documentList = []\n",
    "    flag = 0\n",
    "    # get Posting List for  evry Word \n",
    "    for word in queryList:\n",
    "        try:\n",
    "            documentList.append(list(words[word].keys()))\n",
    "        except:\n",
    "            return -1\n",
    "        \n",
    "    # get intersection Documents between words\n",
    "    intersectDocs = documentList[0]\n",
    "    for i in range(1,len(documentList)):\n",
    "        intersectDocs =  list( set(intersectDocs).intersection(documentList[i]) )\n",
    "        flag = 1\n",
    "    \n",
    "     \n",
    "    if flag == 1:\n",
    "        # Validate indexing\n",
    "        query_intersection = {}\n",
    "        query_Notintersection = {}\n",
    "        for Docnum in intersectDocs:\n",
    "            indexsList = []\n",
    "            for word in queryList :\n",
    "                indexsList.append(words[word][Docnum] )\n",
    "            for i in range(1,len(indexsList)): # change range(1,len(intersectIndex)) with k \n",
    "                indexsList[i] = list(np.asarray(indexsList[i]) - i)\n",
    "                \n",
    "            # get intersection Index between Words \n",
    "            intersectIndexs = indexsList[0]\n",
    "            for i in range(1,len(indexsList)):\n",
    "                intersectIndexs = list( set(intersectIndexs).intersection(indexsList[i]) )\n",
    "                \n",
    "            # save intersections \n",
    "            if len(intersectIndexs) > 0:\n",
    "                query_intersection[Docnum]=[]\n",
    "                for i in range(0,len(queryList)): # change range(1,len(queryList)) with k \n",
    "                    query_intersection[Docnum].append(list(np.asarray(intersectIndexs)+i))\n",
    "            else:\n",
    "                query_Notintersection[Docnum]=[]\n",
    "                for i in range(0,len(indexsList)): # change range(1,len(queryList)) with k\n",
    "                    query_Notintersection[Docnum].append(indexsList[i])\n",
    "        return query_intersection,query_Notintersection\n",
    "                               \n",
    "    else:\n",
    "        return intersectDocs\n",
    "    \n",
    "phrase_query(\"information security \")    "
   ]
  },
  {
   "cell_type": "code",
   "execution_count": 101,
   "metadata": {},
   "outputs": [
    {
     "name": "stdout",
     "output_type": "stream",
     "text": [
      "<saeed 3\n",
      "   0  :  [2]\n",
      "   2  :  [2]\n",
      "   3  :  [4]\n"
     ]
    }
   ],
   "source": [
    "#search\n",
    "term = \"saeed\"\n",
    "print(\"<{} {}\".format(term,len(words[term])))\n",
    "for key, value in words[term].items():\n",
    "    print('  ',key, ' : ', value)"
   ]
  },
  {
   "cell_type": "code",
   "execution_count": 102,
   "metadata": {},
   "outputs": [
    {
     "data": {
      "text/plain": [
       "3"
      ]
     },
     "execution_count": 102,
     "metadata": {},
     "output_type": "execute_result"
    }
   ],
   "source": [
    "import math\n",
    "Cleaned_tokenized_documentList=xlist[:3]\n",
    "documentListTill3 = Cleaned_tokenized_documentList[:3]\n",
    "len(documentListTill3)"
   ]
  },
  {
   "cell_type": "code",
   "execution_count": 103,
   "metadata": {},
   "outputs": [],
   "source": [
    "#term frequency \n",
    "def tf(term,document):\n",
    "    i=0\n",
    "    for word in document:\n",
    "        if word == term:\n",
    "            i+=1\n",
    "    return i"
   ]
  },
  {
   "cell_type": "code",
   "execution_count": 104,
   "metadata": {},
   "outputs": [],
   "source": [
    "\n",
    "def creat_tfMatrix(uniqueWords, docNum):\n",
    "    Tf_Idf_Matrix = pd.DataFrame( columns = ['term', 'tf'])\n",
    "    for term in uniqueWords:\n",
    "        new_row = {'term':term,'tf':tf(term,documentListTill3[docNum])}\n",
    "        Tf_Idf_Matrix = Tf_Idf_Matrix.append(new_row, ignore_index=True)\n",
    "    return Tf_Idf_Matrix"
   ]
  },
  {
   "cell_type": "code",
   "execution_count": 105,
   "metadata": {},
   "outputs": [
    {
     "data": {
      "text/plain": [
       "6"
      ]
     },
     "execution_count": 105,
     "metadata": {},
     "output_type": "execute_result"
    }
   ],
   "source": [
    "# create Unique Words \n",
    "uniqueWords = []\n",
    "for doc in documentListTill3:\n",
    "    uniqueWords += list(set(doc))\n",
    "uniqueWords = list(set(uniqueWords))\n",
    "len(uniqueWords)"
   ]
  },
  {
   "cell_type": "code",
   "execution_count": 106,
   "metadata": {},
   "outputs": [
    {
     "data": {
      "text/html": [
       "<div>\n",
       "<style scoped>\n",
       "    .dataframe tbody tr th:only-of-type {\n",
       "        vertical-align: middle;\n",
       "    }\n",
       "\n",
       "    .dataframe tbody tr th {\n",
       "        vertical-align: top;\n",
       "    }\n",
       "\n",
       "    .dataframe thead th {\n",
       "        text-align: right;\n",
       "    }\n",
       "</style>\n",
       "<table border=\"1\" class=\"dataframe\">\n",
       "  <thead>\n",
       "    <tr style=\"text-align: right;\">\n",
       "      <th></th>\n",
       "      <th>term</th>\n",
       "      <th>tf</th>\n",
       "    </tr>\n",
       "  </thead>\n",
       "  <tbody>\n",
       "    <tr>\n",
       "      <th>0</th>\n",
       "      <td>saeed</td>\n",
       "      <td>1</td>\n",
       "    </tr>\n",
       "    <tr>\n",
       "      <th>1</th>\n",
       "      <td>mohmmed</td>\n",
       "      <td>1</td>\n",
       "    </tr>\n",
       "    <tr>\n",
       "      <th>2</th>\n",
       "      <td>science</td>\n",
       "      <td>0</td>\n",
       "    </tr>\n",
       "    <tr>\n",
       "      <th>3</th>\n",
       "      <td>computer</td>\n",
       "      <td>0</td>\n",
       "    </tr>\n",
       "    <tr>\n",
       "      <th>4</th>\n",
       "      <td>engineering</td>\n",
       "      <td>0</td>\n",
       "    </tr>\n",
       "    <tr>\n",
       "      <th>5</th>\n",
       "      <td>system</td>\n",
       "      <td>2</td>\n",
       "    </tr>\n",
       "  </tbody>\n",
       "</table>\n",
       "</div>"
      ],
      "text/plain": [
       "          term tf\n",
       "0        saeed  1\n",
       "1      mohmmed  1\n",
       "2      science  0\n",
       "3     computer  0\n",
       "4  engineering  0\n",
       "5       system  2"
      ]
     },
     "execution_count": 106,
     "metadata": {},
     "output_type": "execute_result"
    }
   ],
   "source": [
    "# First Document \n",
    "Tf_Idf_Matrix1 = creat_tfMatrix(uniqueWords, 0)\n",
    "Tf_Idf_Matrix1 #term frequency for document 1"
   ]
  },
  {
   "cell_type": "code",
   "execution_count": 107,
   "metadata": {},
   "outputs": [
    {
     "data": {
      "text/html": [
       "<div>\n",
       "<style scoped>\n",
       "    .dataframe tbody tr th:only-of-type {\n",
       "        vertical-align: middle;\n",
       "    }\n",
       "\n",
       "    .dataframe tbody tr th {\n",
       "        vertical-align: top;\n",
       "    }\n",
       "\n",
       "    .dataframe thead th {\n",
       "        text-align: right;\n",
       "    }\n",
       "</style>\n",
       "<table border=\"1\" class=\"dataframe\">\n",
       "  <thead>\n",
       "    <tr style=\"text-align: right;\">\n",
       "      <th></th>\n",
       "      <th>term</th>\n",
       "      <th>tf</th>\n",
       "    </tr>\n",
       "  </thead>\n",
       "  <tbody>\n",
       "    <tr>\n",
       "      <th>0</th>\n",
       "      <td>saeed</td>\n",
       "      <td>0</td>\n",
       "    </tr>\n",
       "    <tr>\n",
       "      <th>1</th>\n",
       "      <td>mohmmed</td>\n",
       "      <td>0</td>\n",
       "    </tr>\n",
       "    <tr>\n",
       "      <th>2</th>\n",
       "      <td>science</td>\n",
       "      <td>1</td>\n",
       "    </tr>\n",
       "    <tr>\n",
       "      <th>3</th>\n",
       "      <td>computer</td>\n",
       "      <td>1</td>\n",
       "    </tr>\n",
       "    <tr>\n",
       "      <th>4</th>\n",
       "      <td>engineering</td>\n",
       "      <td>1</td>\n",
       "    </tr>\n",
       "    <tr>\n",
       "      <th>5</th>\n",
       "      <td>system</td>\n",
       "      <td>0</td>\n",
       "    </tr>\n",
       "  </tbody>\n",
       "</table>\n",
       "</div>"
      ],
      "text/plain": [
       "          term tf\n",
       "0        saeed  0\n",
       "1      mohmmed  0\n",
       "2      science  1\n",
       "3     computer  1\n",
       "4  engineering  1\n",
       "5       system  0"
      ]
     },
     "execution_count": 107,
     "metadata": {},
     "output_type": "execute_result"
    }
   ],
   "source": [
    "\n",
    "# Second Document \n",
    "Tf_Idf_Matrix2 = creat_tfMatrix(uniqueWords, 1)\n",
    "Tf_Idf_Matrix2 #term frequency for document 2"
   ]
  },
  {
   "cell_type": "code",
   "execution_count": 108,
   "metadata": {},
   "outputs": [
    {
     "data": {
      "text/html": [
       "<div>\n",
       "<style scoped>\n",
       "    .dataframe tbody tr th:only-of-type {\n",
       "        vertical-align: middle;\n",
       "    }\n",
       "\n",
       "    .dataframe tbody tr th {\n",
       "        vertical-align: top;\n",
       "    }\n",
       "\n",
       "    .dataframe thead th {\n",
       "        text-align: right;\n",
       "    }\n",
       "</style>\n",
       "<table border=\"1\" class=\"dataframe\">\n",
       "  <thead>\n",
       "    <tr style=\"text-align: right;\">\n",
       "      <th></th>\n",
       "      <th>term</th>\n",
       "      <th>tf</th>\n",
       "    </tr>\n",
       "  </thead>\n",
       "  <tbody>\n",
       "    <tr>\n",
       "      <th>0</th>\n",
       "      <td>saeed</td>\n",
       "      <td>1</td>\n",
       "    </tr>\n",
       "    <tr>\n",
       "      <th>1</th>\n",
       "      <td>mohmmed</td>\n",
       "      <td>0</td>\n",
       "    </tr>\n",
       "    <tr>\n",
       "      <th>2</th>\n",
       "      <td>science</td>\n",
       "      <td>0</td>\n",
       "    </tr>\n",
       "    <tr>\n",
       "      <th>3</th>\n",
       "      <td>computer</td>\n",
       "      <td>0</td>\n",
       "    </tr>\n",
       "    <tr>\n",
       "      <th>4</th>\n",
       "      <td>engineering</td>\n",
       "      <td>0</td>\n",
       "    </tr>\n",
       "    <tr>\n",
       "      <th>5</th>\n",
       "      <td>system</td>\n",
       "      <td>2</td>\n",
       "    </tr>\n",
       "  </tbody>\n",
       "</table>\n",
       "</div>"
      ],
      "text/plain": [
       "          term tf\n",
       "0        saeed  1\n",
       "1      mohmmed  0\n",
       "2      science  0\n",
       "3     computer  0\n",
       "4  engineering  0\n",
       "5       system  2"
      ]
     },
     "execution_count": 108,
     "metadata": {},
     "output_type": "execute_result"
    }
   ],
   "source": [
    "# third Document \n",
    "Tf_Idf_Matrix3 = creat_tfMatrix(uniqueWords, 2) \n",
    "Tf_Idf_Matrix3  #term frequency for document 3"
   ]
  },
  {
   "cell_type": "code",
   "execution_count": null,
   "metadata": {},
   "outputs": [],
   "source": []
  },
  {
   "cell_type": "code",
   "execution_count": 109,
   "metadata": {},
   "outputs": [],
   "source": [
    "#---idf \n",
    "# Create DF \n",
    "def create_df(uniqueWords,documentList):\n",
    "    df={}\n",
    "    for term in uniqueWords:\n",
    "        df[term]=0\n",
    "        for document in documentList:\n",
    "            if term in document:\n",
    "                df[term]+=1\n",
    "    return df"
   ]
  },
  {
   "cell_type": "code",
   "execution_count": 110,
   "metadata": {},
   "outputs": [],
   "source": [
    "# Create IDF \n",
    "def create_Idf(df, N):\n",
    "    Idf={}\n",
    "    for term in uniqueWords:\n",
    "        Idf[term]=format(math.log10(N/df[term]), '.3f')\n",
    "    return Idf"
   ]
  },
  {
   "cell_type": "code",
   "execution_count": 111,
   "metadata": {},
   "outputs": [
    {
     "data": {
      "text/plain": [
       "{'saeed': '0.176',\n",
       " 'mohmmed': '0.477',\n",
       " 'science': '0.477',\n",
       " 'computer': '0.477',\n",
       " 'engineering': '0.477',\n",
       " 'system': '0.176'}"
      ]
     },
     "execution_count": 111,
     "metadata": {},
     "output_type": "execute_result"
    }
   ],
   "source": [
    "df  = create_df(uniqueWords, documentListTill3)\n",
    "idf = create_Idf(df,3)\n",
    "idf"
   ]
  },
  {
   "cell_type": "code",
   "execution_count": 112,
   "metadata": {},
   "outputs": [],
   "source": [
    "# Create TF Weight\n",
    "def creat_TF_Weight(Tf_Idf_Matrix):\n",
    "    TF_Weightlist = []\n",
    "    for tf in Tf_Idf_Matrix.tf.values:\n",
    "        if tf != 0:\n",
    "            TF_Weightlist.append(  1+math.log10(tf))\n",
    "        else:\n",
    "            TF_Weightlist.append(0)\n",
    "    return TF_Weightlist"
   ]
  },
  {
   "cell_type": "code",
   "execution_count": 113,
   "metadata": {},
   "outputs": [
    {
     "data": {
      "text/plain": [
       "0    1.00000\n",
       "1    1.00000\n",
       "2    0.00000\n",
       "3    0.00000\n",
       "4    0.00000\n",
       "5    1.30103\n",
       "Name: tf_weight, dtype: float64"
      ]
     },
     "execution_count": 113,
     "metadata": {},
     "output_type": "execute_result"
    }
   ],
   "source": [
    "# First Document \n",
    "Tf_Idf_Matrix1['tf_weight'] = creat_TF_Weight(Tf_Idf_Matrix1) \n",
    "Tf_Idf_Matrix1['tf_weight'] "
   ]
  },
  {
   "cell_type": "code",
   "execution_count": 114,
   "metadata": {},
   "outputs": [
    {
     "data": {
      "text/plain": [
       "0    0.0\n",
       "1    0.0\n",
       "2    1.0\n",
       "3    1.0\n",
       "4    1.0\n",
       "5    0.0\n",
       "Name: tf_weight, dtype: float64"
      ]
     },
     "execution_count": 114,
     "metadata": {},
     "output_type": "execute_result"
    }
   ],
   "source": [
    "# Second Document \n",
    "Tf_Idf_Matrix2['tf_weight'] = creat_TF_Weight(Tf_Idf_Matrix2)\n",
    "Tf_Idf_Matrix2['tf_weight']"
   ]
  },
  {
   "cell_type": "code",
   "execution_count": 115,
   "metadata": {},
   "outputs": [
    {
     "data": {
      "text/plain": [
       "0    1.00000\n",
       "1    0.00000\n",
       "2    0.00000\n",
       "3    0.00000\n",
       "4    0.00000\n",
       "5    1.30103\n",
       "Name: tf_weight, dtype: float64"
      ]
     },
     "execution_count": 115,
     "metadata": {},
     "output_type": "execute_result"
    }
   ],
   "source": [
    "# third Document \n",
    "Tf_Idf_Matrix3['tf_weight'] = creat_TF_Weight(Tf_Idf_Matrix3)\n",
    "Tf_Idf_Matrix3['tf_weight']"
   ]
  },
  {
   "cell_type": "code",
   "execution_count": 116,
   "metadata": {},
   "outputs": [
    {
     "data": {
      "text/html": [
       "<div>\n",
       "<style scoped>\n",
       "    .dataframe tbody tr th:only-of-type {\n",
       "        vertical-align: middle;\n",
       "    }\n",
       "\n",
       "    .dataframe tbody tr th {\n",
       "        vertical-align: top;\n",
       "    }\n",
       "\n",
       "    .dataframe thead th {\n",
       "        text-align: right;\n",
       "    }\n",
       "</style>\n",
       "<table border=\"1\" class=\"dataframe\">\n",
       "  <thead>\n",
       "    <tr style=\"text-align: right;\">\n",
       "      <th></th>\n",
       "      <th>term</th>\n",
       "      <th>tf</th>\n",
       "      <th>tf_weight</th>\n",
       "    </tr>\n",
       "  </thead>\n",
       "  <tbody>\n",
       "    <tr>\n",
       "      <th>0</th>\n",
       "      <td>saeed</td>\n",
       "      <td>0</td>\n",
       "      <td>0.0</td>\n",
       "    </tr>\n",
       "    <tr>\n",
       "      <th>1</th>\n",
       "      <td>mohmmed</td>\n",
       "      <td>0</td>\n",
       "      <td>0.0</td>\n",
       "    </tr>\n",
       "    <tr>\n",
       "      <th>2</th>\n",
       "      <td>science</td>\n",
       "      <td>1</td>\n",
       "      <td>1.0</td>\n",
       "    </tr>\n",
       "    <tr>\n",
       "      <th>3</th>\n",
       "      <td>computer</td>\n",
       "      <td>1</td>\n",
       "      <td>1.0</td>\n",
       "    </tr>\n",
       "    <tr>\n",
       "      <th>4</th>\n",
       "      <td>engineering</td>\n",
       "      <td>1</td>\n",
       "      <td>1.0</td>\n",
       "    </tr>\n",
       "    <tr>\n",
       "      <th>5</th>\n",
       "      <td>system</td>\n",
       "      <td>0</td>\n",
       "      <td>0.0</td>\n",
       "    </tr>\n",
       "  </tbody>\n",
       "</table>\n",
       "</div>"
      ],
      "text/plain": [
       "          term tf  tf_weight\n",
       "0        saeed  0        0.0\n",
       "1      mohmmed  0        0.0\n",
       "2      science  1        1.0\n",
       "3     computer  1        1.0\n",
       "4  engineering  1        1.0\n",
       "5       system  0        0.0"
      ]
     },
     "execution_count": 116,
     "metadata": {},
     "output_type": "execute_result"
    }
   ],
   "source": [
    "\n",
    "Tf_Idf_Matrix2"
   ]
  },
  {
   "cell_type": "code",
   "execution_count": 117,
   "metadata": {},
   "outputs": [],
   "source": [
    "# Creat TF-IDF\n",
    "def creat_TF_IDF(Tf_Idf_Matrix,idf):\n",
    "    TF_IDFlist = []\n",
    "    TF_Weight = list(Tf_Idf_Matrix.tf_weight.values)\n",
    "    IDF = list(idf.values())\n",
    "    for i in range(len(IDF)):\n",
    "        TF_IDFlist.append(TF_Weight[i]*float(IDF[i]))\n",
    "    return TF_IDFlist"
   ]
  },
  {
   "cell_type": "code",
   "execution_count": 118,
   "metadata": {},
   "outputs": [
    {
     "data": {
      "text/plain": [
       "0    0.176000\n",
       "1    0.477000\n",
       "2    0.000000\n",
       "3    0.000000\n",
       "4    0.000000\n",
       "5    0.228981\n",
       "Name: tf_idf, dtype: float64"
      ]
     },
     "execution_count": 118,
     "metadata": {},
     "output_type": "execute_result"
    }
   ],
   "source": [
    "# First Document \n",
    "Tf_Idf_Matrix1['tf_idf'] = creat_TF_IDF(Tf_Idf_Matrix1,idf)\n",
    "Tf_Idf_Matrix1['tf_idf']"
   ]
  },
  {
   "cell_type": "code",
   "execution_count": 119,
   "metadata": {},
   "outputs": [
    {
     "data": {
      "text/plain": [
       "0    0.000\n",
       "1    0.000\n",
       "2    0.477\n",
       "3    0.477\n",
       "4    0.477\n",
       "5    0.000\n",
       "Name: tf_idf, dtype: float64"
      ]
     },
     "execution_count": 119,
     "metadata": {},
     "output_type": "execute_result"
    }
   ],
   "source": [
    "# Second Document\n",
    "Tf_Idf_Matrix2['tf_idf'] = creat_TF_IDF(Tf_Idf_Matrix2,idf)\n",
    "Tf_Idf_Matrix2['tf_idf']"
   ]
  },
  {
   "cell_type": "code",
   "execution_count": 120,
   "metadata": {},
   "outputs": [
    {
     "data": {
      "text/plain": [
       "0    0.176000\n",
       "1    0.000000\n",
       "2    0.000000\n",
       "3    0.000000\n",
       "4    0.000000\n",
       "5    0.228981\n",
       "Name: tf_idf, dtype: float64"
      ]
     },
     "execution_count": 120,
     "metadata": {},
     "output_type": "execute_result"
    }
   ],
   "source": [
    "# third Document \n",
    "Tf_Idf_Matrix3['tf_idf'] = creat_TF_IDF(Tf_Idf_Matrix3,idf)\n",
    "Tf_Idf_Matrix3['tf_idf']"
   ]
  },
  {
   "cell_type": "code",
   "execution_count": 121,
   "metadata": {},
   "outputs": [
    {
     "data": {
      "text/html": [
       "<div>\n",
       "<style scoped>\n",
       "    .dataframe tbody tr th:only-of-type {\n",
       "        vertical-align: middle;\n",
       "    }\n",
       "\n",
       "    .dataframe tbody tr th {\n",
       "        vertical-align: top;\n",
       "    }\n",
       "\n",
       "    .dataframe thead th {\n",
       "        text-align: right;\n",
       "    }\n",
       "</style>\n",
       "<table border=\"1\" class=\"dataframe\">\n",
       "  <thead>\n",
       "    <tr style=\"text-align: right;\">\n",
       "      <th></th>\n",
       "      <th>term</th>\n",
       "      <th>tf</th>\n",
       "      <th>tf_weight</th>\n",
       "      <th>tf_idf</th>\n",
       "    </tr>\n",
       "  </thead>\n",
       "  <tbody>\n",
       "    <tr>\n",
       "      <th>0</th>\n",
       "      <td>saeed</td>\n",
       "      <td>0</td>\n",
       "      <td>0.0</td>\n",
       "      <td>0.000</td>\n",
       "    </tr>\n",
       "    <tr>\n",
       "      <th>1</th>\n",
       "      <td>mohmmed</td>\n",
       "      <td>0</td>\n",
       "      <td>0.0</td>\n",
       "      <td>0.000</td>\n",
       "    </tr>\n",
       "    <tr>\n",
       "      <th>2</th>\n",
       "      <td>science</td>\n",
       "      <td>1</td>\n",
       "      <td>1.0</td>\n",
       "      <td>0.477</td>\n",
       "    </tr>\n",
       "    <tr>\n",
       "      <th>3</th>\n",
       "      <td>computer</td>\n",
       "      <td>1</td>\n",
       "      <td>1.0</td>\n",
       "      <td>0.477</td>\n",
       "    </tr>\n",
       "    <tr>\n",
       "      <th>4</th>\n",
       "      <td>engineering</td>\n",
       "      <td>1</td>\n",
       "      <td>1.0</td>\n",
       "      <td>0.477</td>\n",
       "    </tr>\n",
       "    <tr>\n",
       "      <th>5</th>\n",
       "      <td>system</td>\n",
       "      <td>0</td>\n",
       "      <td>0.0</td>\n",
       "      <td>0.000</td>\n",
       "    </tr>\n",
       "  </tbody>\n",
       "</table>\n",
       "</div>"
      ],
      "text/plain": [
       "          term tf  tf_weight  tf_idf\n",
       "0        saeed  0        0.0   0.000\n",
       "1      mohmmed  0        0.0   0.000\n",
       "2      science  1        1.0   0.477\n",
       "3     computer  1        1.0   0.477\n",
       "4  engineering  1        1.0   0.477\n",
       "5       system  0        0.0   0.000"
      ]
     },
     "execution_count": 121,
     "metadata": {},
     "output_type": "execute_result"
    }
   ],
   "source": [
    "Tf_Idf_Matrix2"
   ]
  },
  {
   "cell_type": "code",
   "execution_count": 122,
   "metadata": {},
   "outputs": [],
   "source": [
    "# Create Length\n",
    "def creat_length(Tf_Idf_Matrix):\n",
    "    tf_idfSquare = 0\n",
    "    for tf_idf in Tf_Idf_Matrix.tf_idf.values:\n",
    "        tf_idfSquare += (tf_idf*tf_idf)\n",
    "    return math.sqrt(tf_idfSquare)"
   ]
  },
  {
   "cell_type": "code",
   "execution_count": 123,
   "metadata": {},
   "outputs": [
    {
     "data": {
      "text/plain": [
       "0.5576176344422307"
      ]
     },
     "execution_count": 123,
     "metadata": {},
     "output_type": "execute_result"
    }
   ],
   "source": [
    "# First Document \n",
    "lengthD1 = creat_length(Tf_Idf_Matrix1) \n",
    "lengthD1"
   ]
  },
  {
   "cell_type": "code",
   "execution_count": 124,
   "metadata": {},
   "outputs": [
    {
     "data": {
      "text/plain": [
       "0.8261882352103544"
      ]
     },
     "execution_count": 124,
     "metadata": {},
     "output_type": "execute_result"
    }
   ],
   "source": [
    "# Second Document\n",
    "lengthD2 = creat_length(Tf_Idf_Matrix2)\n",
    "lengthD2 "
   ]
  },
  {
   "cell_type": "code",
   "execution_count": 125,
   "metadata": {},
   "outputs": [
    {
     "data": {
      "text/plain": [
       "0.2888051700384693"
      ]
     },
     "execution_count": 125,
     "metadata": {},
     "output_type": "execute_result"
    }
   ],
   "source": [
    "# third Document \n",
    "lengthD3 = creat_length(Tf_Idf_Matrix3)\n",
    "lengthD3"
   ]
  },
  {
   "cell_type": "code",
   "execution_count": 126,
   "metadata": {},
   "outputs": [],
   "source": [
    "# Create normalize\n",
    "def creat_normalize(Tf_Idf_Matrix,length):\n",
    "    normalizelist = []\n",
    "    for tf_idf in Tf_Idf_Matrix.tf_idf.values:\n",
    "        normalizelist.append(tf_idf/length)\n",
    "    return normalizelist"
   ]
  },
  {
   "cell_type": "code",
   "execution_count": 127,
   "metadata": {},
   "outputs": [
    {
     "data": {
      "text/plain": [
       "0    0.315628\n",
       "1    0.855425\n",
       "2    0.000000\n",
       "3    0.000000\n",
       "4    0.000000\n",
       "5    0.410642\n",
       "Name: normalize, dtype: float64"
      ]
     },
     "execution_count": 127,
     "metadata": {},
     "output_type": "execute_result"
    }
   ],
   "source": [
    "# First Document \n",
    "Tf_Idf_Matrix1['normalize'] = creat_normalize(Tf_Idf_Matrix1,lengthD1); \n",
    "Tf_Idf_Matrix1['normalize']"
   ]
  },
  {
   "cell_type": "code",
   "execution_count": 128,
   "metadata": {},
   "outputs": [
    {
     "data": {
      "text/plain": [
       "0    0.00000\n",
       "1    0.00000\n",
       "2    0.57735\n",
       "3    0.57735\n",
       "4    0.57735\n",
       "5    0.00000\n",
       "Name: normalize, dtype: float64"
      ]
     },
     "execution_count": 128,
     "metadata": {},
     "output_type": "execute_result"
    }
   ],
   "source": [
    "# Second Document\n",
    "Tf_Idf_Matrix2['normalize'] = creat_normalize(Tf_Idf_Matrix2,lengthD2); \n",
    "Tf_Idf_Matrix2['normalize']"
   ]
  },
  {
   "cell_type": "code",
   "execution_count": 129,
   "metadata": {},
   "outputs": [
    {
     "data": {
      "text/plain": [
       "0    0.609407\n",
       "1    0.000000\n",
       "2    0.000000\n",
       "3    0.000000\n",
       "4    0.000000\n",
       "5    0.792857\n",
       "Name: normalize, dtype: float64"
      ]
     },
     "execution_count": 129,
     "metadata": {},
     "output_type": "execute_result"
    }
   ],
   "source": [
    "# third Document \n",
    "Tf_Idf_Matrix3['normalize'] = creat_normalize(Tf_Idf_Matrix3,lengthD3)\n",
    "Tf_Idf_Matrix3['normalize']"
   ]
  },
  {
   "cell_type": "code",
   "execution_count": 130,
   "metadata": {},
   "outputs": [
    {
     "data": {
      "text/html": [
       "<div>\n",
       "<style scoped>\n",
       "    .dataframe tbody tr th:only-of-type {\n",
       "        vertical-align: middle;\n",
       "    }\n",
       "\n",
       "    .dataframe tbody tr th {\n",
       "        vertical-align: top;\n",
       "    }\n",
       "\n",
       "    .dataframe thead th {\n",
       "        text-align: right;\n",
       "    }\n",
       "</style>\n",
       "<table border=\"1\" class=\"dataframe\">\n",
       "  <thead>\n",
       "    <tr style=\"text-align: right;\">\n",
       "      <th></th>\n",
       "      <th>term</th>\n",
       "      <th>tf</th>\n",
       "      <th>tf_weight</th>\n",
       "      <th>tf_idf</th>\n",
       "      <th>normalize</th>\n",
       "    </tr>\n",
       "  </thead>\n",
       "  <tbody>\n",
       "    <tr>\n",
       "      <th>0</th>\n",
       "      <td>saeed</td>\n",
       "      <td>0</td>\n",
       "      <td>0.0</td>\n",
       "      <td>0.000</td>\n",
       "      <td>0.00000</td>\n",
       "    </tr>\n",
       "    <tr>\n",
       "      <th>1</th>\n",
       "      <td>mohmmed</td>\n",
       "      <td>0</td>\n",
       "      <td>0.0</td>\n",
       "      <td>0.000</td>\n",
       "      <td>0.00000</td>\n",
       "    </tr>\n",
       "    <tr>\n",
       "      <th>2</th>\n",
       "      <td>science</td>\n",
       "      <td>1</td>\n",
       "      <td>1.0</td>\n",
       "      <td>0.477</td>\n",
       "      <td>0.57735</td>\n",
       "    </tr>\n",
       "    <tr>\n",
       "      <th>3</th>\n",
       "      <td>computer</td>\n",
       "      <td>1</td>\n",
       "      <td>1.0</td>\n",
       "      <td>0.477</td>\n",
       "      <td>0.57735</td>\n",
       "    </tr>\n",
       "    <tr>\n",
       "      <th>4</th>\n",
       "      <td>engineering</td>\n",
       "      <td>1</td>\n",
       "      <td>1.0</td>\n",
       "      <td>0.477</td>\n",
       "      <td>0.57735</td>\n",
       "    </tr>\n",
       "    <tr>\n",
       "      <th>5</th>\n",
       "      <td>system</td>\n",
       "      <td>0</td>\n",
       "      <td>0.0</td>\n",
       "      <td>0.000</td>\n",
       "      <td>0.00000</td>\n",
       "    </tr>\n",
       "  </tbody>\n",
       "</table>\n",
       "</div>"
      ],
      "text/plain": [
       "          term tf  tf_weight  tf_idf  normalize\n",
       "0        saeed  0        0.0   0.000    0.00000\n",
       "1      mohmmed  0        0.0   0.000    0.00000\n",
       "2      science  1        1.0   0.477    0.57735\n",
       "3     computer  1        1.0   0.477    0.57735\n",
       "4  engineering  1        1.0   0.477    0.57735\n",
       "5       system  0        0.0   0.000    0.00000"
      ]
     },
     "execution_count": 130,
     "metadata": {},
     "output_type": "execute_result"
    }
   ],
   "source": [
    "Tf_Idf_Matrix2"
   ]
  },
  {
   "cell_type": "code",
   "execution_count": 131,
   "metadata": {},
   "outputs": [],
   "source": [
    "# Create Tf Idf Matrix for  the query\n",
    "def create_TFIDFMatrixQuery(query,documentListTill3):\n",
    "    queryList = regexp_tokenize(query, \"[\\w']+\")\n",
    "    documentListTill3.append(queryList)\n",
    "    # Create TF Matrix \n",
    "    queryTf_Idf_Matrix = creat_tfMatrix(uniqueWords, 3)\n",
    "    # Create TF Weight\n",
    "    queryTf_Idf_Matrix['tf_weight'] = creat_TF_Weight(queryTf_Idf_Matrix)\n",
    "    # Create TF-IDF\n",
    "    queryTf_Idf_Matrix['tf_idf'] = creat_TF_IDF(queryTf_Idf_Matrix,idf);\n",
    "    # Create Length\n",
    "    querylengthD = creat_length(queryTf_Idf_Matrix)\n",
    "    # Create normalize\n",
    "    queryTf_Idf_Matrix['normalize'] = creat_normalize(queryTf_Idf_Matrix,querylengthD)\n",
    "    documentListTill3 = documentListTill3[:-1]\n",
    "    return queryTf_Idf_Matrix"
   ]
  },
  {
   "cell_type": "code",
   "execution_count": 132,
   "metadata": {},
   "outputs": [],
   "source": [
    "\n",
    "queryTf_Idf_Matrix = create_TFIDFMatrixQuery(\"syStem information saeed\",documentListTill3)"
   ]
  },
  {
   "cell_type": "code",
   "execution_count": 133,
   "metadata": {},
   "outputs": [
    {
     "data": {
      "text/html": [
       "<div>\n",
       "<style scoped>\n",
       "    .dataframe tbody tr th:only-of-type {\n",
       "        vertical-align: middle;\n",
       "    }\n",
       "\n",
       "    .dataframe tbody tr th {\n",
       "        vertical-align: top;\n",
       "    }\n",
       "\n",
       "    .dataframe thead th {\n",
       "        text-align: right;\n",
       "    }\n",
       "</style>\n",
       "<table border=\"1\" class=\"dataframe\">\n",
       "  <thead>\n",
       "    <tr style=\"text-align: right;\">\n",
       "      <th></th>\n",
       "      <th>term</th>\n",
       "      <th>tf</th>\n",
       "      <th>tf_weight</th>\n",
       "      <th>tf_idf</th>\n",
       "      <th>normalize</th>\n",
       "    </tr>\n",
       "  </thead>\n",
       "  <tbody>\n",
       "    <tr>\n",
       "      <th>0</th>\n",
       "      <td>saeed</td>\n",
       "      <td>1</td>\n",
       "      <td>1.0</td>\n",
       "      <td>0.176</td>\n",
       "      <td>1.0</td>\n",
       "    </tr>\n",
       "    <tr>\n",
       "      <th>1</th>\n",
       "      <td>mohmmed</td>\n",
       "      <td>0</td>\n",
       "      <td>0.0</td>\n",
       "      <td>0.000</td>\n",
       "      <td>0.0</td>\n",
       "    </tr>\n",
       "    <tr>\n",
       "      <th>2</th>\n",
       "      <td>science</td>\n",
       "      <td>0</td>\n",
       "      <td>0.0</td>\n",
       "      <td>0.000</td>\n",
       "      <td>0.0</td>\n",
       "    </tr>\n",
       "    <tr>\n",
       "      <th>3</th>\n",
       "      <td>computer</td>\n",
       "      <td>0</td>\n",
       "      <td>0.0</td>\n",
       "      <td>0.000</td>\n",
       "      <td>0.0</td>\n",
       "    </tr>\n",
       "    <tr>\n",
       "      <th>4</th>\n",
       "      <td>engineering</td>\n",
       "      <td>0</td>\n",
       "      <td>0.0</td>\n",
       "      <td>0.000</td>\n",
       "      <td>0.0</td>\n",
       "    </tr>\n",
       "    <tr>\n",
       "      <th>5</th>\n",
       "      <td>system</td>\n",
       "      <td>0</td>\n",
       "      <td>0.0</td>\n",
       "      <td>0.000</td>\n",
       "      <td>0.0</td>\n",
       "    </tr>\n",
       "  </tbody>\n",
       "</table>\n",
       "</div>"
      ],
      "text/plain": [
       "          term tf  tf_weight  tf_idf  normalize\n",
       "0        saeed  1        1.0   0.176        1.0\n",
       "1      mohmmed  0        0.0   0.000        0.0\n",
       "2      science  0        0.0   0.000        0.0\n",
       "3     computer  0        0.0   0.000        0.0\n",
       "4  engineering  0        0.0   0.000        0.0\n",
       "5       system  0        0.0   0.000        0.0"
      ]
     },
     "execution_count": 133,
     "metadata": {},
     "output_type": "execute_result"
    }
   ],
   "source": [
    "queryTf_Idf_Matrix"
   ]
  },
  {
   "cell_type": "code",
   "execution_count": 134,
   "metadata": {},
   "outputs": [],
   "source": [
    "# Calculate Similarity\n",
    "def similarity(queryTf_Idf_Matrix,documentTf_Idf_Matrix):\n",
    "    querynormalize    = list(queryTf_Idf_Matrix['normalize'].values)\n",
    "    documentnormalize = list(documentTf_Idf_Matrix['normalize'].values)\n",
    "    result = 0\n",
    "    for i in range(len(querynormalize)):\n",
    "        result += querynormalize[i]*documentnormalize[i]\n",
    "    return result"
   ]
  },
  {
   "cell_type": "code",
   "execution_count": 135,
   "metadata": {},
   "outputs": [
    {
     "name": "stdout",
     "output_type": "stream",
     "text": [
      "query similarity With Document1 is:  0.3156284685581149\n",
      "query similarity With Document2 is:  0.0\n",
      "query similarity With Document3 is:  0.6094073730624577\n"
     ]
    }
   ],
   "source": [
    "print( \"query similarity With Document1 is: \",similarity(queryTf_Idf_Matrix,Tf_Idf_Matrix1) )\n",
    "print( \"query similarity With Document2 is: \",similarity(queryTf_Idf_Matrix,Tf_Idf_Matrix2) )\n",
    "print( \"query similarity With Document3 is: \",similarity(queryTf_Idf_Matrix,Tf_Idf_Matrix3) )"
   ]
  },
  {
   "cell_type": "code",
   "execution_count": null,
   "metadata": {},
   "outputs": [],
   "source": []
  },
  {
   "cell_type": "code",
   "execution_count": null,
   "metadata": {},
   "outputs": [],
   "source": []
  },
  {
   "cell_type": "code",
   "execution_count": null,
   "metadata": {},
   "outputs": [],
   "source": []
  },
  {
   "cell_type": "code",
   "execution_count": null,
   "metadata": {},
   "outputs": [],
   "source": []
  }
 ],
 "metadata": {
  "celltoolbar": "Raw Cell Format",
  "kernelspec": {
   "display_name": "Python 3",
   "language": "python",
   "name": "python3"
  },
  "language_info": {
   "codemirror_mode": {
    "name": "ipython",
    "version": 3
   },
   "file_extension": ".py",
   "mimetype": "text/x-python",
   "name": "python",
   "nbconvert_exporter": "python",
   "pygments_lexer": "ipython3",
   "version": "3.7.6"
  },
  "widgets": {
   "application/vnd.jupyter.widget-state+json": {
    "state": {},
    "version_major": 2,
    "version_minor": 0
   }
  }
 },
 "nbformat": 4,
 "nbformat_minor": 4
}
